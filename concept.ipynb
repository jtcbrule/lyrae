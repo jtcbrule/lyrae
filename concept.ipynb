{
 "cells": [
  {
   "cell_type": "code",
   "execution_count": 1,
   "metadata": {},
   "outputs": [],
   "source": [
    "(require '[lyrae.core])"
   ]
  },
  {
   "cell_type": "code",
   "execution_count": 2,
   "metadata": {},
   "outputs": [
    {
     "data": {
      "text/html": [
       "\n",
       "<div id='uuid-390a0d2a-946f-499f-aa09-177b1ac56898'>\n",
       "<script>\n",
       "requirejs.config({\n",
       "  baseUrl: 'https://cdn.jsdelivr.net/npm/',\n",
       "  paths: {\n",
       "    'vega-embed':  'vega-embed@3?noext',\n",
       "    'vega-lib': 'vega-lib?noext',\n",
       "    'vega-lite': 'vega-lite@2?noext',\n",
       "    'vega': 'vega@3?noext'\n",
       "  }\n",
       "});\n",
       "\n",
       "require(['vega-embed'], function(vegaEmbed) {\n",
       "  let spec = {\"description\":\"A simple bar chart\",\"width\":360,\"data\":{\"values\":[{\"a\":\"A\",\"b\":28},{\"a\":\"B\",\"b\":55},{\"a\":\"C\",\"b\":43},{\"a\":\"D\",\"b\":91},{\"a\":\"E\",\"b\":81},{\"a\":\"F\",\"b\":53},{\"a\":\"G\",\"b\":19},{\"a\":\"H\",\"b\":87},{\"a\":\"I\",\"b\":52}]},\"mark\":\"bar\",\"encoding\":{\"x\":{\"field\":\"a\",\"type\":\"ordinal\"},\"y\":{\"field\":\"b\",\"type\":\"quantitative\"},\"tooltip\":{\"field\":\"b\",\"type\":\"quantitative\"}}};\n",
       "  vegaEmbed('#uuid-390a0d2a-946f-499f-aa09-177b1ac56898', spec, {defaultStyle:true}).catch(console.warn);\n",
       "  }, function(err) {\n",
       "  console.log('Failed to load');\n",
       "});\n",
       "</script>\n",
       "</div>\n",
       "  "
      ]
     },
     "execution_count": 2,
     "metadata": {},
     "output_type": "execute_result"
    }
   ],
   "source": [
    "(lyrae.core/->Vega lyrae.core/example-vega)"
   ]
  },
  {
   "cell_type": "code",
   "execution_count": 3,
   "metadata": {},
   "outputs": [
    {
     "name": "stdout",
     "output_type": "stream",
     "text": [
      "#lyrae.core.Vega{:spec {:description A simple bar chart, :width 360, :data {:values [{a A, b 28} {a B, b 55} {a C, b 43} {a D, b 91} {a E, b 81} {a F, b 53} {a G, b 19} {a H, b 87} {a I, b 52}]}, :mark bar, :encoding {:x {:field a, :type ordinal}, :y {:field b, :type quantitative}, :tooltip {:field b, :type quantitative}}}}"
     ]
    }
   ],
   "source": [
    "(print (lyrae.core/->Vega lyrae.core/example-vega))"
   ]
  },
  {
   "cell_type": "code",
   "execution_count": null,
   "metadata": {},
   "outputs": [],
   "source": []
  }
 ],
 "metadata": {
  "kernelspec": {
   "display_name": "Lein-Clojure",
   "language": "clojure",
   "name": "lein-clojure"
  },
  "language_info": {
   "file_extension": ".clj",
   "mimetype": "text/x-clojure",
   "name": "clojure",
   "version": "1.8.0"
  }
 },
 "nbformat": 4,
 "nbformat_minor": 2
}
